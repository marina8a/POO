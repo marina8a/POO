{
  "nbformat": 4,
  "nbformat_minor": 0,
  "metadata": {
    "colab": {
      "provenance": []
    },
    "kernelspec": {
      "name": "python3",
      "display_name": "Python 3"
    },
    "language_info": {
      "name": "python"
    }
  },
  "cells": [
    {
      "cell_type": "markdown",
      "source": [
        "# INTRODUCCIÓN A PYTHON\n",
        "En esta clase aprenderemos sobre el funcionamiento de Google Colab, y tendremos un breve introducción a Python, la cual es una forma sencilla de escritura de códigos.\n",
        "\n",
        "## QUE VEREMOS HOY??\n",
        "\n",
        "\n",
        "1.   Objetos\n",
        "2.   Variables\n",
        "3.   Ejemplo\n",
        "\n"
      ],
      "metadata": {
        "id": "V51O9XPJqPj8"
      }
    },
    {
      "cell_type": "markdown",
      "source": [
        "**NOTA: en este procesador de texto se puede escribir en html y en latex.**\n",
        "\n",
        "Por ejemplo, vamos a escribir la ecuación más hermosa:\n",
        "\n",
        "$$e^{i\\pi}+1=0$$\n",
        "\n",
        "Otro ejemplo:\n",
        "\n",
        "\\begin{bmatrix}\n",
        "a_{11} & a_{12} & \\cdots & a_{1n} \\\\\n",
        "a_{21} & a_{22} & \\cdots & a_{2n} \\\\\n",
        "\\vdots & \\vdots & \\ddots & \\vdots \\\\\n",
        "a_{m1} & a_{m2} & \\cdots & a_{mn}\n",
        "\\end{bmatrix}"
      ],
      "metadata": {
        "id": "Av8pvZ8IuCNl"
      }
    },
    {
      "cell_type": "markdown",
      "source": [
        "### ALGUNOS OBJETOS EN PYTHON:\n",
        "\n",
        "\n",
        "\n",
        "1.   int y float (enteros y flotantes)\n",
        "2.   str (\"string\")\n",
        "3.   Conjuntos y listas\n",
        "\n",
        "---\n",
        "\n",
        "**La función `print` yvla función `type`**\n",
        "\n"
      ],
      "metadata": {
        "id": "dAfiYy926fhN"
      }
    },
    {
      "cell_type": "code",
      "source": [
        "#IMPRIMIR HELLO WORLD\n",
        "#Puedes escribir texto con o sin print. Considera que si lo pones sin print, debe ir al final del código\n",
        "print(\"Hello World\")\n",
        "\"Hello World\""
      ],
      "metadata": {
        "colab": {
          "base_uri": "https://localhost:8080/",
          "height": 54
        },
        "id": "QwyxqA1hs9yI",
        "outputId": "3399c2f8-d645-438a-a7c2-2a760c7de525"
      },
      "execution_count": 2,
      "outputs": [
        {
          "output_type": "stream",
          "name": "stdout",
          "text": [
            "Hello World\n"
          ]
        },
        {
          "output_type": "execute_result",
          "data": {
            "text/plain": [
              "'Hello World'"
            ],
            "application/vnd.google.colaboratory.intrinsic+json": {
              "type": "string"
            }
          },
          "metadata": {},
          "execution_count": 2
        }
      ]
    },
    {
      "cell_type": "markdown",
      "source": [
        "#### OPERACIONES BÁSICAS EN INT O FLOAT\n",
        "\n",
        "\n",
        "\n",
        "*   $+,\\ -$ suma y resta\n",
        "*  $*, /, **$ multiplicación, división, potenciación\n",
        "*    $\\%$ operación modular\n",
        "*   // división al piso\n",
        "\n",
        "\n"
      ],
      "metadata": {
        "id": "hccFQewMAZkO"
      }
    },
    {
      "cell_type": "markdown",
      "source": [
        "##### CREACIÓN DE VARIABLES\n",
        "\n",
        "nombre = objeto"
      ],
      "metadata": {
        "id": "uQje9kugFMh-"
      }
    },
    {
      "cell_type": "code",
      "source": [
        "#CREAR DOS VARIABLES\n",
        "\n",
        "x = 7\n",
        "y = 3"
      ],
      "metadata": {
        "id": "O1tsh8-UFzNR"
      },
      "execution_count": 7,
      "outputs": []
    },
    {
      "cell_type": "code",
      "source": [
        "# OPERACIONES\n",
        "\n",
        "print(f\"La suma de {x} y {y} es {x+y}\")\n",
        "print(f\"La potenciación de {x} y {y} es {x**y}\")\n",
        "print(f\"El residuo de {x} y {y} es {x%y}\")\n",
        "print(f\"La división al piso de {x} y {y} es {x//y}\")"
      ],
      "metadata": {
        "colab": {
          "base_uri": "https://localhost:8080/"
        },
        "id": "NzhtR1rWG3VQ",
        "outputId": "d76a795f-1623-49c5-8251-d95db3b11f78"
      },
      "execution_count": 8,
      "outputs": [
        {
          "output_type": "stream",
          "name": "stdout",
          "text": [
            "La suma de 7 y 3 es 10\n",
            "La potenciación de 7 y 3 es 343\n",
            "El residuo de 7 y 3 es 1\n",
            "La división al piso de 7 y 3 es 2\n"
          ]
        }
      ]
    },
    {
      "cell_type": "code",
      "source": [
        "# La función type te duce el tipo de objeto\n",
        "\n",
        "type(x/y), type(\"Marina\")"
      ],
      "metadata": {
        "colab": {
          "base_uri": "https://localhost:8080/"
        },
        "id": "5nmFpyj6IwlE",
        "outputId": "d261f3c5-5e9d-4b17-9291-9253f529f1a9"
      },
      "execution_count": 11,
      "outputs": [
        {
          "output_type": "execute_result",
          "data": {
            "text/plain": [
              "(float, str)"
            ]
          },
          "metadata": {},
          "execution_count": 11
        }
      ]
    }
  ]
}