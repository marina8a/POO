{
  "nbformat": 4,
  "nbformat_minor": 0,
  "metadata": {
    "colab": {
      "provenance": []
    },
    "kernelspec": {
      "name": "python3",
      "display_name": "Python 3"
    },
    "language_info": {
      "name": "python"
    }
  },
  "cells": [
    {
      "cell_type": "markdown",
      "source": [
        "# ARREGLOS Y CLASES\n",
        "\n",
        "## MATRICES\n",
        "Una matriz es un arreglo de $m$x$[texto del vínculo](https://)n$ elementos"
      ],
      "metadata": {
        "id": "SFs_B1XnvZAv"
      }
    },
    {
      "cell_type": "markdown",
      "source": [
        "\\begin{pmatrix}\n",
        "a_{11} & a_{12} & \\cdots & a_{1n} \\\\\n",
        "a_{21} & a_{22} & \\cdots & a_{2n} \\\\\n",
        "\\vdots & \\vdots & \\ddots & \\vdots \\\\\n",
        "a_{m1} & a_{m2} & \\cdots & a_{mn}\n",
        "\\end{pmatrix}"
      ],
      "metadata": {
        "id": "SE2nx9A0wOGJ"
      }
    },
    {
      "cell_type": "code",
      "source": [
        "#Generar una lista\n",
        "A= [[1,2,3],[4,5,6],[7,8,9]]\n",
        "print(A)"
      ],
      "metadata": {
        "colab": {
          "base_uri": "https://localhost:8080/"
        },
        "id": "2UB4fm4qyRlA",
        "outputId": "f182d4ea-7c5f-4e03-8fde-813c34325987"
      },
      "execution_count": 3,
      "outputs": [
        {
          "output_type": "stream",
          "name": "stdout",
          "text": [
            "[[1, 2, 3], [4, 5, 6], [7, 8, 9]]\n"
          ]
        }
      ]
    },
    {
      "cell_type": "code",
      "source": [
        "#Vamos a generar otra lista\n",
        "B=[[21,34,40], [71,17,77],[73,81,28]]\n",
        "print(B)"
      ],
      "metadata": {
        "colab": {
          "base_uri": "https://localhost:8080/"
        },
        "id": "gLFAQIgDyXWY",
        "outputId": "67e766ca-3394-40c8-fe24-020fabf78b61"
      },
      "execution_count": 5,
      "outputs": [
        {
          "output_type": "stream",
          "name": "stdout",
          "text": [
            "[[21, 34, 40], [71, 17, 77], [73, 81, 28]]\n"
          ]
        }
      ]
    },
    {
      "cell_type": "code",
      "source": [
        "A+B"
      ],
      "metadata": {
        "colab": {
          "base_uri": "https://localhost:8080/"
        },
        "id": "AeXhCKf5yp3k",
        "outputId": "d869a2e3-e1bd-430f-ae8b-acbbb0959240"
      },
      "execution_count": 6,
      "outputs": [
        {
          "output_type": "execute_result",
          "data": {
            "text/plain": [
              "[[1, 2, 3], [4, 5, 6], [7, 8, 9], [21, 34, 40], [71, 17, 77], [73, 81, 28]]"
            ]
          },
          "metadata": {},
          "execution_count": 6
        }
      ]
    },
    {
      "cell_type": "code",
      "source": [
        "2*A"
      ],
      "metadata": {
        "colab": {
          "base_uri": "https://localhost:8080/"
        },
        "id": "x1XeERA0zkQN",
        "outputId": "90822c0a-027a-4d9c-afba-034663d92a9a"
      },
      "execution_count": 7,
      "outputs": [
        {
          "output_type": "execute_result",
          "data": {
            "text/plain": [
              "[[1, 2, 3], [4, 5, 6], [7, 8, 9], [1, 2, 3], [4, 5, 6], [7, 8, 9]]"
            ]
          },
          "metadata": {},
          "execution_count": 7
        }
      ]
    },
    {
      "cell_type": "code",
      "source": [
        "A[0][0]\n",
        "# A[0,0] NO se puede, debe escribirse como esta arriba [0](primer lista)[0]primer valor"
      ],
      "metadata": {
        "colab": {
          "base_uri": "https://localhost:8080/"
        },
        "id": "NbvFTlRHzvk0",
        "outputId": "a07bc2fa-8040-487e-b854-5afcb4aab132"
      },
      "execution_count": 16,
      "outputs": [
        {
          "output_type": "execute_result",
          "data": {
            "text/plain": [
              "1"
            ]
          },
          "metadata": {},
          "execution_count": 16
        }
      ]
    },
    {
      "cell_type": "markdown",
      "source": [
        "##VECTORES Y LISTAS\n",
        "\n"
      ],
      "metadata": {
        "id": "xg2IdSvr0--8"
      }
    },
    {
      "cell_type": "code",
      "source": [
        "L=A[0]\n",
        "M=B[0]"
      ],
      "metadata": {
        "colab": {
          "base_uri": "https://localhost:8080/"
        },
        "id": "xva5cKHF1V4h",
        "outputId": "2c867f52-1c20-43ae-d9d3-7dab26f02ab8"
      },
      "execution_count": 17,
      "outputs": [
        {
          "output_type": "execute_result",
          "data": {
            "text/plain": [
              "[1, 2, 3, 21, 34, 40]"
            ]
          },
          "metadata": {},
          "execution_count": 17
        }
      ]
    },
    {
      "cell_type": "code",
      "source": [
        "a=L[0]\n",
        "b=M[0]\n",
        "a+b"
      ],
      "metadata": {
        "colab": {
          "base_uri": "https://localhost:8080/"
        },
        "id": "klj12bDs13uj",
        "outputId": "f0bb38bf-a19c-4482-b95c-e03fde498881"
      },
      "execution_count": 25,
      "outputs": [
        {
          "output_type": "execute_result",
          "data": {
            "text/plain": [
              "22"
            ]
          },
          "metadata": {},
          "execution_count": 25
        }
      ]
    },
    {
      "cell_type": "code",
      "source": [
        "a==1"
      ],
      "metadata": {
        "colab": {
          "base_uri": "https://localhost:8080/"
        },
        "id": "X5YjsL6D2UN7",
        "outputId": "93aa8a8c-1dc6-4848-f734-7858c3637231"
      },
      "execution_count": 26,
      "outputs": [
        {
          "output_type": "execute_result",
          "data": {
            "text/plain": [
              "True"
            ]
          },
          "metadata": {},
          "execution_count": 26
        }
      ]
    },
    {
      "cell_type": "markdown",
      "source": [
        "### SUMA DE VECTORES\n"
      ],
      "metadata": {
        "id": "qYhYKiqP3-nJ"
      }
    },
    {
      "cell_type": "code",
      "source": [
        "len(L)"
      ],
      "metadata": {
        "colab": {
          "base_uri": "https://localhost:8080/"
        },
        "id": "4R5Btkc-4F4d",
        "outputId": "ddd30e21-4667-4a4c-9638-41b264afba20"
      },
      "execution_count": 27,
      "outputs": [
        {
          "output_type": "execute_result",
          "data": {
            "text/plain": [
              "True"
            ]
          },
          "metadata": {},
          "execution_count": 27
        }
      ]
    },
    {
      "cell_type": "code",
      "source": [
        "suma=[L[0]+M[0],L[1]+M[1],L[2]+M[2]]\n",
        "suma"
      ],
      "metadata": {
        "colab": {
          "base_uri": "https://localhost:8080/"
        },
        "id": "yivtRCiQ4ep5",
        "outputId": "db256686-3044-4681-bb7b-2f118efa63ff"
      },
      "execution_count": 31,
      "outputs": [
        {
          "output_type": "execute_result",
          "data": {
            "text/plain": [
              "[22, 36, 43]"
            ]
          },
          "metadata": {},
          "execution_count": 31
        }
      ]
    },
    {
      "cell_type": "code",
      "source": [
        "suma=[L[i]+M[i] for i in range(3)]\n",
        "suma"
      ],
      "metadata": {
        "colab": {
          "base_uri": "https://localhost:8080/"
        },
        "id": "wusUyeBd5IdY",
        "outputId": "403d2db0-0afe-4c96-89da-c586865889f4"
      },
      "execution_count": 35,
      "outputs": [
        {
          "output_type": "execute_result",
          "data": {
            "text/plain": [
              "[22, 36, 43]"
            ]
          },
          "metadata": {},
          "execution_count": 35
        }
      ]
    },
    {
      "cell_type": "markdown",
      "source": [
        "### CREACIÓN DE FUNCIONES GLOBALES\n",
        "La función para crear funciones es `def` que se cierra con un debug (`print` o `return`)"
      ],
      "metadata": {
        "id": "eFXva2swEJpa"
      }
    },
    {
      "cell_type": "code",
      "source": [
        "def Hola():\n",
        "  print(\"Hola, me llamo Marina\")"
      ],
      "metadata": {
        "id": "5KPDQ_2GE1pA"
      },
      "execution_count": 38,
      "outputs": []
    },
    {
      "cell_type": "code",
      "source": [
        "Hola()"
      ],
      "metadata": {
        "colab": {
          "base_uri": "https://localhost:8080/"
        },
        "id": "Alo_0F5wFZin",
        "outputId": "011b633d-05c5-43c0-8118-c0ebf9db6768"
      },
      "execution_count": 39,
      "outputs": [
        {
          "output_type": "stream",
          "name": "stdout",
          "text": [
            "Hola, me llamo Marina\n"
          ]
        }
      ]
    },
    {
      "cell_type": "code",
      "source": [
        "def saludar(s,n):\n",
        "  print(f\"Hola, me llamo {s} y tengo {n} años\")"
      ],
      "metadata": {
        "id": "85VLvvMWGRMk"
      },
      "execution_count": 45,
      "outputs": []
    },
    {
      "cell_type": "code",
      "source": [
        "saludar(\"Marina\", 18)"
      ],
      "metadata": {
        "colab": {
          "base_uri": "https://localhost:8080/"
        },
        "id": "pzdUtSN6GtUP",
        "outputId": "3963980a-2f3a-4042-eed0-c40d326e2212"
      },
      "execution_count": 46,
      "outputs": [
        {
          "output_type": "stream",
          "name": "stdout",
          "text": [
            "Hola, me llamo Marina y tengo 18 años\n"
          ]
        }
      ]
    },
    {
      "cell_type": "code",
      "source": [
        "def par(x):\n",
        "  for x in range(10):\n",
        "    if x%2==0:\n",
        "      print(f\"{x} es par\")\n",
        "    else:\n",
        "      print(f\"{x} es impar\")"
      ],
      "metadata": {
        "id": "EbfNCUaYIGA8"
      },
      "execution_count": 63,
      "outputs": []
    },
    {
      "cell_type": "code",
      "source": [
        "par(10)"
      ],
      "metadata": {
        "colab": {
          "base_uri": "https://localhost:8080/"
        },
        "id": "TjO6XM04Jb9d",
        "outputId": "f99cf6fd-2085-40d1-9358-51b4b9f0e6fe"
      },
      "execution_count": 64,
      "outputs": [
        {
          "output_type": "stream",
          "name": "stdout",
          "text": [
            "0 es par\n",
            "1 es impar\n",
            "2 es par\n",
            "3 es impar\n",
            "4 es par\n",
            "5 es impar\n",
            "6 es par\n",
            "7 es impar\n",
            "8 es par\n",
            "9 es impar\n"
          ]
        }
      ]
    },
    {
      "cell_type": "code",
      "source": [
        "def sumavectorial(L,M):\n",
        "  x = [L[i]+M[i] for i in range(len(L))]\n",
        "  return x"
      ],
      "metadata": {
        "id": "eq61BI1cLQZd"
      },
      "execution_count": 65,
      "outputs": []
    },
    {
      "cell_type": "code",
      "source": [
        "L = [1, 2, 3]\n",
        "M = [21, 34, 40]\n",
        "\n",
        "sumavectorial(L,M)"
      ],
      "metadata": {
        "colab": {
          "base_uri": "https://localhost:8080/"
        },
        "id": "etQG3NU8L6fE",
        "outputId": "53d7e4f5-e8ef-433e-ae33-6d28453a892b"
      },
      "execution_count": 66,
      "outputs": [
        {
          "output_type": "execute_result",
          "data": {
            "text/plain": [
              "[22, 36, 43]"
            ]
          },
          "metadata": {},
          "execution_count": 66
        }
      ]
    },
    {
      "cell_type": "markdown",
      "source": [
        "## MÓDULOS O LIBRERÍA\n",
        "Una librería en POO es un conjunto de clases y métodos que te ayudan a construir programas de manera más rápida, fácil y eficiente. Es como tener un kit de herramientas lleno de funcionalidades listas para usar."
      ],
      "metadata": {
        "id": "AZOSWwRkMsIW"
      }
    },
    {
      "cell_type": "code",
      "source": [
        "import math\n",
        "from math import sqrt, pi"
      ],
      "metadata": {
        "id": "FeTagvqRNyU5"
      },
      "execution_count": 68,
      "outputs": []
    },
    {
      "cell_type": "code",
      "source": [
        "pi"
      ],
      "metadata": {
        "colab": {
          "base_uri": "https://localhost:8080/"
        },
        "id": "5bC1TjQwOMZF",
        "outputId": "587ae541-be2c-45ee-a535-930b72f9f079"
      },
      "execution_count": 70,
      "outputs": [
        {
          "output_type": "execute_result",
          "data": {
            "text/plain": [
              "3.141592653589793"
            ]
          },
          "metadata": {},
          "execution_count": 70
        }
      ]
    },
    {
      "cell_type": "markdown",
      "source": [
        "#EL MÓDULO NumPy\n",
        "\n",
        "La función `array`"
      ],
      "metadata": {
        "id": "CbyYV2ZuO8-A"
      }
    },
    {
      "cell_type": "code",
      "source": [
        "#array convierte listas en un vector\n",
        "import numpy as np\n",
        "L_vector = np.array(L)\n",
        "M_vector = np.array(M)\n",
        "\n",
        "L_vector + M_vector"
      ],
      "metadata": {
        "colab": {
          "base_uri": "https://localhost:8080/"
        },
        "id": "-gjMfATtPLUQ",
        "outputId": "9460061a-3619-4bb4-8d6e-43d3c482cb36"
      },
      "execution_count": 71,
      "outputs": [
        {
          "output_type": "execute_result",
          "data": {
            "text/plain": [
              "array([22, 36, 43])"
            ]
          },
          "metadata": {},
          "execution_count": 71
        }
      ]
    },
    {
      "cell_type": "code",
      "source": [
        "C = [9,2,2,2,3,3,2,17,2]\n",
        "A = [8,1,1,1,2,2,1,16,1]\n",
        "\n",
        "C_matriz = np.array(C).reshape(3,3)\n",
        "A_matriz = np.array(A).reshape(3,3)\n",
        "\n",
        "print(C_matriz)\n",
        "print(A_matriz)"
      ],
      "metadata": {
        "colab": {
          "base_uri": "https://localhost:8080/"
        },
        "id": "ROoBZg4wP8GH",
        "outputId": "752c272a-effd-4f33-f3bb-3c21b28648bc"
      },
      "execution_count": 73,
      "outputs": [
        {
          "output_type": "stream",
          "name": "stdout",
          "text": [
            "[[ 9  2  2]\n",
            " [ 2  3  3]\n",
            " [ 2 17  2]]\n",
            "[[ 8  1  1]\n",
            " [ 1  2  2]\n",
            " [ 1 16  1]]\n"
          ]
        }
      ]
    },
    {
      "cell_type": "code",
      "source": [
        "C_matriz @ A_matriz"
      ],
      "metadata": {
        "colab": {
          "base_uri": "https://localhost:8080/"
        },
        "id": "YeSz6pB4RC8A",
        "outputId": "c581cec6-d219-4dbf-e480-3d9565940b5b"
      },
      "execution_count": 74,
      "outputs": [
        {
          "output_type": "execute_result",
          "data": {
            "text/plain": [
              "array([[76, 45, 15],\n",
              "       [22, 56, 11],\n",
              "       [35, 68, 38]])"
            ]
          },
          "metadata": {},
          "execution_count": 74
        }
      ]
    }
  ]
}