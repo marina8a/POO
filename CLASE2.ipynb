{
  "nbformat": 4,
  "nbformat_minor": 0,
  "metadata": {
    "colab": {
      "provenance": []
    },
    "kernelspec": {
      "name": "python3",
      "display_name": "Python 3"
    },
    "language_info": {
      "name": "python"
    }
  },
  "cells": [
    {
      "cell_type": "markdown",
      "source": [
        "# CONJUNTOS Y LISTAS\n",
        "\n",
        "- Conjuntos finitos:\n",
        "$$\\{0_1, 0_2, \\dots, o_n \\}$$\n",
        "\n",
        "- Listas finitas:\n",
        "$$[0_1, 0_2, \\dots, l_n ]$$"
      ],
      "metadata": {
        "id": "7c5LZ9tfeCTr"
      }
    },
    {
      "cell_type": "markdown",
      "source": [
        "En Python, existe la función `range(a,b)` done $a,b\\geq 0$"
      ],
      "metadata": {
        "id": "X5uwgETxeePT"
      }
    },
    {
      "cell_type": "code",
      "source": [
        "range(10)\n",
        "\n"
      ],
      "metadata": {
        "colab": {
          "base_uri": "https://localhost:8080/"
        },
        "id": "LxTKdTqaf_Eg",
        "outputId": "75dca90d-a35a-411a-d69d-01c181050908"
      },
      "execution_count": 3,
      "outputs": [
        {
          "output_type": "execute_result",
          "data": {
            "text/plain": [
              "range(0, 10)"
            ]
          },
          "metadata": {},
          "execution_count": 3
        }
      ]
    },
    {
      "cell_type": "markdown",
      "source": [
        "¿Cómo puedo ver a los elementos de este generdor de índices?"
      ],
      "metadata": {
        "id": "1VosBx0Tfvkx"
      }
    },
    {
      "cell_type": "code",
      "source": [
        "for i in range(10) : print (i)"
      ],
      "metadata": {
        "colab": {
          "base_uri": "https://localhost:8080/"
        },
        "id": "vFWwwKTugNAz",
        "outputId": "e55f998f-3a61-4f08-8942-8576157c7dd9"
      },
      "execution_count": 4,
      "outputs": [
        {
          "output_type": "stream",
          "name": "stdout",
          "text": [
            "0\n",
            "1\n",
            "2\n",
            "3\n",
            "4\n",
            "5\n",
            "6\n",
            "7\n",
            "8\n",
            "9\n"
          ]
        }
      ]
    },
    {
      "cell_type": "code",
      "source": [
        "# VAMOS A CONSTRUIR DOS CONJUNTOS\n",
        "\n",
        "Pares = {i for i in range (21) if i%2==0}\n",
        "print (f\"Pares: {Pares}\")\n",
        "\n",
        "Impares = {i for i in range (21) if i%2==1}\n",
        "print (f\"Impares: {Impares}\")"
      ],
      "metadata": {
        "colab": {
          "base_uri": "https://localhost:8080/"
        },
        "id": "Cs6NYQsohDJM",
        "outputId": "ce170903-2ef8-468a-a877-954153984bbe"
      },
      "execution_count": 12,
      "outputs": [
        {
          "output_type": "stream",
          "name": "stdout",
          "text": [
            "Pares: {0, 2, 4, 6, 8, 10, 12, 14, 16, 18, 20}\n",
            "Impares: {1, 3, 5, 7, 9, 11, 13, 15, 17, 19}\n"
          ]
        }
      ]
    },
    {
      "cell_type": "code",
      "source": [
        "c = {17, 7, 27, 19, 77, 56, 8, 12, 10, 13, 20, 16}\n",
        "c, type(c)"
      ],
      "metadata": {
        "colab": {
          "base_uri": "https://localhost:8080/"
        },
        "id": "FdtGbgl8jWom",
        "outputId": "ef83f806-d91a-4b81-85cc-53db4d7c0497"
      },
      "execution_count": 13,
      "outputs": [
        {
          "output_type": "execute_result",
          "data": {
            "text/plain": [
              "({7, 8, 10, 12, 13, 16, 17, 19, 20, 27, 56, 77}, set)"
            ]
          },
          "metadata": {},
          "execution_count": 13
        }
      ]
    },
    {
      "cell_type": "markdown",
      "source": [
        "**LOS OBJETOS EN PYTHON TIENEN ATRIBUTOS**"
      ],
      "metadata": {
        "id": "QvR2ZVijkBvf"
      }
    },
    {
      "cell_type": "code",
      "source": [
        "Pares.intersection(Impares) #CONJUNTO VACÍO"
      ],
      "metadata": {
        "colab": {
          "base_uri": "https://localhost:8080/"
        },
        "id": "hUzeqqXdkNi_",
        "outputId": "2d6d9ca2-7cb2-4c14-f2a3-bccd19ef6394"
      },
      "execution_count": 14,
      "outputs": [
        {
          "output_type": "execute_result",
          "data": {
            "text/plain": [
              "set()"
            ]
          },
          "metadata": {},
          "execution_count": 14
        }
      ]
    },
    {
      "cell_type": "code",
      "source": [
        "Pares.union(Impares)"
      ],
      "metadata": {
        "colab": {
          "base_uri": "https://localhost:8080/"
        },
        "id": "akuCd3zgkjk1",
        "outputId": "9192f3e3-2adc-4b79-b38c-05d6ac548479"
      },
      "execution_count": 15,
      "outputs": [
        {
          "output_type": "execute_result",
          "data": {
            "text/plain": [
              "{0, 1, 2, 3, 4, 5, 6, 7, 8, 9, 10, 11, 12, 13, 14, 15, 16, 17, 18, 19, 20}"
            ]
          },
          "metadata": {},
          "execution_count": 15
        }
      ]
    },
    {
      "cell_type": "code",
      "source": [
        "Impares.difference(c) #QUITA LOS ELEMENTOS DE C DEL CONJUNTO DE IMPARES"
      ],
      "metadata": {
        "colab": {
          "base_uri": "https://localhost:8080/"
        },
        "id": "gJ_sBoeVkuzR",
        "outputId": "327403a5-91ea-4b97-ab98-a83b2fc1262e"
      },
      "execution_count": 16,
      "outputs": [
        {
          "output_type": "execute_result",
          "data": {
            "text/plain": [
              "{1, 3, 5, 9, 11, 15}"
            ]
          },
          "metadata": {},
          "execution_count": 16
        }
      ]
    },
    {
      "cell_type": "code",
      "source": [
        "Pares.difference(c)"
      ],
      "metadata": {
        "colab": {
          "base_uri": "https://localhost:8080/"
        },
        "id": "8pe89jcmlEXI",
        "outputId": "1d37956a-7b6c-4f93-8da4-a8c79cf0d4d4"
      },
      "execution_count": 17,
      "outputs": [
        {
          "output_type": "execute_result",
          "data": {
            "text/plain": [
              "{0, 2, 4, 6, 14, 18}"
            ]
          },
          "metadata": {},
          "execution_count": 17
        }
      ]
    },
    {
      "cell_type": "markdown",
      "source": [
        "## LISTAS"
      ],
      "metadata": {
        "id": "HFRobjQTlt5U"
      }
    },
    {
      "cell_type": "code",
      "source": [
        "Lista_pares = list(Pares)\n",
        "Lista_pares"
      ],
      "metadata": {
        "colab": {
          "base_uri": "https://localhost:8080/"
        },
        "id": "Uidsw-5El-Px",
        "outputId": "11f4bba0-ebd5-42de-d914-80e428a839e2"
      },
      "execution_count": 19,
      "outputs": [
        {
          "output_type": "execute_result",
          "data": {
            "text/plain": [
              "[0, 2, 4, 6, 8, 10, 12, 14, 16, 18, 20]"
            ]
          },
          "metadata": {},
          "execution_count": 19
        }
      ]
    }
  ]
}