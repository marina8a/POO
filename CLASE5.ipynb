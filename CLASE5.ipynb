{
  "nbformat": 4,
  "nbformat_minor": 0,
  "metadata": {
    "colab": {
      "provenance": []
    },
    "kernelspec": {
      "name": "python3",
      "display_name": "Python 3"
    },
    "language_info": {
      "name": "python"
    }
  },
  "cells": [
    {
      "cell_type": "markdown",
      "source": [
        "#CLASES Y HERENCIAS\n",
        "Grupos de funciones. Hay un grupo madre y dentro puedes crear grupos hijos."
      ],
      "metadata": {
        "id": "xWegGPr8KnDv"
      }
    },
    {
      "cell_type": "code",
      "execution_count": 1,
      "metadata": {
        "id": "pOZHt9WNFI2W"
      },
      "outputs": [],
      "source": [
        "class Marina():\n",
        "  pass"
      ]
    },
    {
      "cell_type": "code",
      "source": [
        "Marina( )"
      ],
      "metadata": {
        "colab": {
          "base_uri": "https://localhost:8080/"
        },
        "id": "7Fh8ZJk1KiVB",
        "outputId": "44e210c0-db82-4d28-ada6-97fe7dff1c15"
      },
      "execution_count": 2,
      "outputs": [
        {
          "output_type": "execute_result",
          "data": {
            "text/plain": [
              "<__main__.Marina at 0x7becc6056490>"
            ]
          },
          "metadata": {},
          "execution_count": 2
        }
      ]
    },
    {
      "cell_type": "code",
      "source": [
        "# Vamos a crear una clase que se llamará Marina\n",
        "\n",
        "class Marina:\n",
        "  def __init__(self, edad, bff, Ceci):\n",
        "    self.edad = edad\n",
        "    self.bff = bff\n",
        "    self.Ceci = Ceci\n",
        "\n",
        "  def saludar(self):\n",
        "    print(f\"A los {self.edad} conocí a mi amigo {self.bff}\")\n",
        "\n",
        "  def chisme(self):\n",
        "    print(f\"Marina esta en el chisme con {self.bff} y con {self.Ceci}\")\n"
      ],
      "metadata": {
        "id": "_HnXrpYILHMI"
      },
      "execution_count": 29,
      "outputs": []
    },
    {
      "cell_type": "code",
      "source": [
        "nuc = Marina(21, \"Fatima\", \"Ceci\")"
      ],
      "metadata": {
        "id": "QUYwpCvSQ9p-"
      },
      "execution_count": 31,
      "outputs": []
    },
    {
      "cell_type": "code",
      "source": [
        "nuc.bff"
      ],
      "metadata": {
        "colab": {
          "base_uri": "https://localhost:8080/",
          "height": 35
        },
        "id": "eY8LTdrpRh9h",
        "outputId": "011ebba5-e9a1-418e-cbb0-0168614f89b3"
      },
      "execution_count": 32,
      "outputs": [
        {
          "output_type": "execute_result",
          "data": {
            "text/plain": [
              "'Fatima'"
            ],
            "application/vnd.google.colaboratory.intrinsic+json": {
              "type": "string"
            }
          },
          "metadata": {},
          "execution_count": 32
        }
      ]
    },
    {
      "cell_type": "code",
      "source": [
        "# Cuales son los argumentos de la clase?\n",
        "nuc.edad, nuc.bff"
      ],
      "metadata": {
        "colab": {
          "base_uri": "https://localhost:8080/"
        },
        "id": "QgfV_o7FSJ3Z",
        "outputId": "6f9e4ae1-35af-4865-9dc7-f7e5b24b548f"
      },
      "execution_count": 33,
      "outputs": [
        {
          "output_type": "execute_result",
          "data": {
            "text/plain": [
              "(21, 'Fatima')"
            ]
          },
          "metadata": {},
          "execution_count": 33
        }
      ]
    },
    {
      "cell_type": "code",
      "source": [
        "nuc.saludar()"
      ],
      "metadata": {
        "colab": {
          "base_uri": "https://localhost:8080/"
        },
        "id": "YWCC--ZGST10",
        "outputId": "d9206864-a1b8-4ab9-f37b-0fcca5c0ef79"
      },
      "execution_count": 34,
      "outputs": [
        {
          "output_type": "stream",
          "name": "stdout",
          "text": [
            "A los 21 conocí a mi amigo Fatima\n"
          ]
        }
      ]
    },
    {
      "cell_type": "code",
      "source": [
        "# Que estaá haciendo Marina?\n",
        "\n",
        "nuc.chisme()"
      ],
      "metadata": {
        "colab": {
          "base_uri": "https://localhost:8080/"
        },
        "id": "bbBMxpnyT_r-",
        "outputId": "367b647d-af0d-4db1-87f7-62036ad788f0"
      },
      "execution_count": 35,
      "outputs": [
        {
          "output_type": "stream",
          "name": "stdout",
          "text": [
            "Marina esta en el chisme con Fatima y con Ceci\n"
          ]
        }
      ]
    }
  ]
}