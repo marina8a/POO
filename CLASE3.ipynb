{
  "nbformat": 4,
  "nbformat_minor": 0,
  "metadata": {
    "colab": {
      "provenance": []
    },
    "kernelspec": {
      "name": "python3",
      "display_name": "Python 3"
    },
    "language_info": {
      "name": "python"
    }
  },
  "cells": [
    {
      "cell_type": "markdown",
      "source": [
        "#LISTAS E INGRESOS A LISTAS\n",
        "\n",
        "range $(a,b)$ // donde $a$ y $b$ son enteros\n",
        " - $a\\geq0$\n",
        " - $b\\geq0$\n",
        " - $a < b$"
      ],
      "metadata": {
        "id": "gTWkD1crsHko"
      }
    },
    {
      "cell_type": "code",
      "source": [
        "range(10)\n",
        "type(range(10))"
      ],
      "metadata": {
        "colab": {
          "base_uri": "https://localhost:8080/"
        },
        "id": "9IfeFXEJx3m2",
        "outputId": "c9cdab98-c908-40e0-ea77-22e8e4fcbc96"
      },
      "execution_count": null,
      "outputs": [
        {
          "output_type": "execute_result",
          "data": {
            "text/plain": [
              "range"
            ]
          },
          "metadata": {},
          "execution_count": 1
        }
      ]
    },
    {
      "cell_type": "markdown",
      "source": [
        "    La función range es el generados de índices o etiquetas en python"
      ],
      "metadata": {
        "id": "qurG3EmSycbW"
      }
    },
    {
      "cell_type": "code",
      "source": [
        "for i in range(10):\n",
        "  print (i)"
      ],
      "metadata": {
        "colab": {
          "base_uri": "https://localhost:8080/"
        },
        "id": "tUV8u8dTynRr",
        "outputId": "4e9f50c5-9f9f-452c-db4a-f124eca0bdf4"
      },
      "execution_count": null,
      "outputs": [
        {
          "output_type": "stream",
          "name": "stdout",
          "text": [
            "0\n",
            "1\n",
            "2\n",
            "3\n",
            "4\n",
            "5\n",
            "6\n",
            "7\n",
            "8\n",
            "9\n"
          ]
        }
      ]
    },
    {
      "cell_type": "markdown",
      "source": [
        "**lista = list(Pares)**\n",
        "\n",
        "    Transforma un conjunto en una lista"
      ],
      "metadata": {
        "id": "gzr4KbG40nv8"
      }
    },
    {
      "cell_type": "code",
      "source": [
        "x=7\n",
        "str(x)\n",
        "float(x)"
      ],
      "metadata": {
        "colab": {
          "base_uri": "https://localhost:8080/"
        },
        "id": "fgoaCph61CoL",
        "outputId": "698696a1-7adb-460e-e911-0479de81c892"
      },
      "execution_count": null,
      "outputs": [
        {
          "output_type": "execute_result",
          "data": {
            "text/plain": [
              "7.0"
            ]
          },
          "metadata": {},
          "execution_count": 3
        }
      ]
    },
    {
      "cell_type": "code",
      "source": [
        "y=\"7\"\n",
        "int(y)"
      ],
      "metadata": {
        "colab": {
          "base_uri": "https://localhost:8080/"
        },
        "id": "aigMdjHu1fS5",
        "outputId": "a4dfc0c5-812a-4286-b5ce-16d4090406d6"
      },
      "execution_count": null,
      "outputs": [
        {
          "output_type": "execute_result",
          "data": {
            "text/plain": [
              "7"
            ]
          },
          "metadata": {},
          "execution_count": 4
        }
      ]
    },
    {
      "cell_type": "code",
      "source": [
        "hello = \"Hello world\"\n",
        "int(hello)"
      ],
      "metadata": {
        "colab": {
          "base_uri": "https://localhost:8080/",
          "height": 159
        },
        "id": "2IgJrvnG11a6",
        "outputId": "abc57a9e-645a-4701-de08-556ce5cfbd10"
      },
      "execution_count": null,
      "outputs": [
        {
          "output_type": "error",
          "ename": "ValueError",
          "evalue": "invalid literal for int() with base 10: 'Hello world'",
          "traceback": [
            "\u001b[0;31m---------------------------------------------------------------------------\u001b[0m",
            "\u001b[0;31mValueError\u001b[0m                                Traceback (most recent call last)",
            "\u001b[0;32m<ipython-input-5-306644caed5f>\u001b[0m in \u001b[0;36m<cell line: 0>\u001b[0;34m()\u001b[0m\n\u001b[1;32m      1\u001b[0m \u001b[0mhello\u001b[0m \u001b[0;34m=\u001b[0m \u001b[0;34m\"Hello world\"\u001b[0m\u001b[0;34m\u001b[0m\u001b[0;34m\u001b[0m\u001b[0m\n\u001b[0;32m----> 2\u001b[0;31m \u001b[0mint\u001b[0m\u001b[0;34m(\u001b[0m\u001b[0mhello\u001b[0m\u001b[0;34m)\u001b[0m\u001b[0;34m\u001b[0m\u001b[0;34m\u001b[0m\u001b[0m\n\u001b[0m",
            "\u001b[0;31mValueError\u001b[0m: invalid literal for int() with base 10: 'Hello world'"
          ]
        }
      ]
    },
    {
      "cell_type": "markdown",
      "source": [
        "Si $A$ es in conjunto, sea $a\\in A$"
      ],
      "metadata": {
        "id": "TaGbAenQ_cfH"
      }
    },
    {
      "cell_type": "code",
      "source": [
        "Indices = [i for i  in range (0,21)]\n",
        "Indices"
      ],
      "metadata": {
        "colab": {
          "base_uri": "https://localhost:8080/"
        },
        "id": "zG-9APHp_Ic4",
        "outputId": "8038bbcb-03c1-422d-b31c-3d626cc1cd48"
      },
      "execution_count": null,
      "outputs": [
        {
          "output_type": "execute_result",
          "data": {
            "text/plain": [
              "[0, 1, 2, 3, 4, 5, 6, 7, 8, 9, 10, 11, 12, 13, 14, 15, 16, 17, 18, 19, 20]"
            ]
          },
          "metadata": {},
          "execution_count": 6
        }
      ]
    },
    {
      "cell_type": "code",
      "source": [
        "Multiplos3 = [i for i in range(0,21) if i%3==0]\n",
        "Multiplos3"
      ],
      "metadata": {
        "colab": {
          "base_uri": "https://localhost:8080/"
        },
        "id": "joQV3nRnDljS",
        "outputId": "0635420b-72ac-4a87-c62e-1f991b07d4c5"
      },
      "execution_count": null,
      "outputs": [
        {
          "output_type": "execute_result",
          "data": {
            "text/plain": [
              "[0, 3, 6, 9, 12, 15, 18]"
            ]
          },
          "metadata": {},
          "execution_count": 7
        }
      ]
    },
    {
      "cell_type": "code",
      "source": [
        "Indices= [i for i in range(0,21)]\n",
        "print(f\"Etiquetas: {Indices}\")\n",
        "\n",
        "Multiplos3= [i for i in range(0,21) if i%3==0]\n",
        "print(f\"Multiplos3: {Multiplos3}\")"
      ],
      "metadata": {
        "colab": {
          "base_uri": "https://localhost:8080/"
        },
        "id": "-xmw8a1dA9ij",
        "outputId": "40df5b7c-b36b-4145-e401-f204de9293fa"
      },
      "execution_count": null,
      "outputs": [
        {
          "output_type": "stream",
          "name": "stdout",
          "text": [
            "Etiquetas: [0, 1, 2, 3, 4, 5, 6, 7, 8, 9, 10, 11, 12, 13, 14, 15, 16, 17, 18, 19, 20]\n",
            "Multiplos3: [0, 3, 6, 9, 12, 15, 18]\n"
          ]
        }
      ]
    },
    {
      "cell_type": "code",
      "source": [
        "print(f\"Estas son las etiquetas en Python{Indices}\")\n",
        "print(\"Indices\")"
      ],
      "metadata": {
        "colab": {
          "base_uri": "https://localhost:8080/"
        },
        "id": "x3yRROICEQQV",
        "outputId": "bb262422-ba32-4f08-d6b1-73fce8dbe7d2"
      },
      "execution_count": null,
      "outputs": [
        {
          "output_type": "stream",
          "name": "stdout",
          "text": [
            "Estas son las etiquetas en Python[0, 1, 2, 3, 4, 5, 6, 7, 8, 9, 10, 11, 12, 13, 14, 15, 16, 17, 18, 19, 20]\n",
            "Indices\n"
          ]
        }
      ]
    },
    {
      "cell_type": "markdown",
      "source": [
        "#INGRESOS"
      ],
      "metadata": {
        "id": "4T1YuQc1FLjT"
      }
    },
    {
      "cell_type": "code",
      "source": [
        "Marina = []\n",
        "\n",
        "Marina.append(20)"
      ],
      "metadata": {
        "id": "TNGgwF3cFPSV"
      },
      "execution_count": null,
      "outputs": []
    },
    {
      "cell_type": "code",
      "source": [
        "Marina.insert(1, \"Balón\")"
      ],
      "metadata": {
        "id": "UrRKJzEFGZoJ"
      },
      "execution_count": null,
      "outputs": []
    },
    {
      "cell_type": "code",
      "source": [
        "Marina"
      ],
      "metadata": {
        "colab": {
          "base_uri": "https://localhost:8080/"
        },
        "id": "NUYZe5sOG7DY",
        "outputId": "cc77d9db-d5d3-45ec-8efd-98c8bec95ab3"
      },
      "execution_count": null,
      "outputs": [
        {
          "output_type": "execute_result",
          "data": {
            "text/plain": [
              "[20, 'Balón']"
            ]
          },
          "metadata": {},
          "execution_count": 21
        }
      ]
    },
    {
      "cell_type": "code",
      "source": [
        "Marina.insert(2, \"1.55\")"
      ],
      "metadata": {
        "id": "lJqcqoiXHs0d"
      },
      "execution_count": null,
      "outputs": []
    },
    {
      "cell_type": "code",
      "source": [
        "Marina"
      ],
      "metadata": {
        "id": "8Mhfmq01Jv1Q",
        "colab": {
          "base_uri": "https://localhost:8080/"
        },
        "outputId": "7d79b126-51c4-4362-ac5f-41de29330cea"
      },
      "execution_count": 61,
      "outputs": [
        {
          "output_type": "execute_result",
          "data": {
            "text/plain": [
              "[20, 'Balón', '1.55', 'Perro']"
            ]
          },
          "metadata": {},
          "execution_count": 61
        }
      ]
    },
    {
      "cell_type": "code",
      "source": [
        "Marina.insert(3, \"Perro\")"
      ],
      "metadata": {
        "id": "WSn-D42fJ79W"
      },
      "execution_count": null,
      "outputs": []
    },
    {
      "cell_type": "code",
      "source": [
        "Marina"
      ],
      "metadata": {
        "colab": {
          "base_uri": "https://localhost:8080/"
        },
        "id": "Xx4BaVAFKBnh",
        "outputId": "9d6a66d6-d0ca-439d-ea5b-b7118c813b61"
      },
      "execution_count": 62,
      "outputs": [
        {
          "output_type": "execute_result",
          "data": {
            "text/plain": [
              "[20, 'Balón', '1.55', 'Perro']"
            ]
          },
          "metadata": {},
          "execution_count": 62
        }
      ]
    },
    {
      "cell_type": "code",
      "source": [
        "Marina[2]"
      ],
      "metadata": {
        "colab": {
          "base_uri": "https://localhost:8080/",
          "height": 35
        },
        "id": "s0eKfy3CKFjH",
        "outputId": "1dab9dfa-223f-40cf-95a7-27f40c338da7"
      },
      "execution_count": 63,
      "outputs": [
        {
          "output_type": "execute_result",
          "data": {
            "text/plain": [
              "'1.55'"
            ],
            "application/vnd.google.colaboratory.intrinsic+json": {
              "type": "string"
            }
          },
          "metadata": {},
          "execution_count": 63
        }
      ]
    },
    {
      "cell_type": "code",
      "source": [
        "# Es un ranfo, tienes que poner un n[umero m[as alto del que en realidad esta]]\n",
        "\n",
        "Marina[0:2]"
      ],
      "metadata": {
        "colab": {
          "base_uri": "https://localhost:8080/"
        },
        "id": "IF6M5kpvKKiW",
        "outputId": "4807e824-4621-425a-93fb-42ccfc325a84"
      },
      "execution_count": 65,
      "outputs": [
        {
          "output_type": "execute_result",
          "data": {
            "text/plain": [
              "[20, 'Balón']"
            ]
          },
          "metadata": {},
          "execution_count": 65
        }
      ]
    },
    {
      "cell_type": "code",
      "source": [
        "Marina[0::3]"
      ],
      "metadata": {
        "colab": {
          "base_uri": "https://localhost:8080/"
        },
        "id": "FhIvrZVGNhR4",
        "outputId": "f0047b23-cf50-407e-8d7d-1687a8d1d29f"
      },
      "execution_count": 66,
      "outputs": [
        {
          "output_type": "execute_result",
          "data": {
            "text/plain": [
              "[20, 'Perro']"
            ]
          },
          "metadata": {},
          "execution_count": 66
        }
      ]
    },
    {
      "cell_type": "code",
      "source": [
        "# Con :: salen los multiplos de 3\n",
        "\n",
        "Indices[0::3]"
      ],
      "metadata": {
        "colab": {
          "base_uri": "https://localhost:8080/"
        },
        "id": "OGST2AgNNneI",
        "outputId": "ce392e13-eff9-4ae1-e36b-51a144aff88b"
      },
      "execution_count": 67,
      "outputs": [
        {
          "output_type": "execute_result",
          "data": {
            "text/plain": [
              "[0, 3, 6, 9, 12, 15, 18]"
            ]
          },
          "metadata": {},
          "execution_count": 67
        }
      ]
    }
  ]
}