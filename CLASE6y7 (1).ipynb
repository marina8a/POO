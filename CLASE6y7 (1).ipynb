{
  "nbformat": 4,
  "nbformat_minor": 0,
  "metadata": {
    "colab": {
      "provenance": []
    },
    "kernelspec": {
      "name": "python3",
      "display_name": "Python 3"
    },
    "language_info": {
      "name": "python"
    }
  },
  "cells": [
    {
      "cell_type": "markdown",
      "source": [
        "# ALGUNAS FUNCIONES EN PYTHON\n",
        "\n",
        "1. input\n",
        "2. lambda\n",
        "3. map"
      ],
      "metadata": {
        "id": "ho7Gw0vll-J8"
      }
    },
    {
      "cell_type": "markdown",
      "source": [
        "EJEMPLOS DE LA FUNCIÓN INPUT"
      ],
      "metadata": {
        "id": "sEuvPQ5MmGsa"
      }
    },
    {
      "cell_type": "code",
      "source": [
        "Ceci = input(\"De quién es cumpleaños? \")"
      ],
      "metadata": {
        "colab": {
          "base_uri": "https://localhost:8080/"
        },
        "id": "pQP56IMPmjU2",
        "outputId": "57807692-d788-48c2-f271-2b6c9a9baf99"
      },
      "execution_count": null,
      "outputs": [
        {
          "name": "stdout",
          "output_type": "stream",
          "text": [
            "De quién es cumpleaños? Ceci\n"
          ]
        }
      ]
    },
    {
      "cell_type": "code",
      "source": [
        "edad = int(input(\"Cuántos años cumples? \"))"
      ],
      "metadata": {
        "colab": {
          "base_uri": "https://localhost:8080/"
        },
        "id": "WFfFaibAnbw_",
        "outputId": "e5985b55-7eee-4ef1-f564-acb2f9869a2a"
      },
      "execution_count": null,
      "outputs": [
        {
          "name": "stdout",
          "output_type": "stream",
          "text": [
            "Cuántos años cumples? 19\n"
          ]
        }
      ]
    },
    {
      "cell_type": "code",
      "source": [
        "print(f\"Hoy es cumple de {Ceci} y cumple {edad}\")"
      ],
      "metadata": {
        "colab": {
          "base_uri": "https://localhost:8080/"
        },
        "id": "F3d_AzBSoR8s",
        "outputId": "d12b9bda-f619-473f-bccc-22538bbc756a"
      },
      "execution_count": null,
      "outputs": [
        {
          "output_type": "stream",
          "name": "stdout",
          "text": [
            "Hoy es cumple de Ceci y cumple 19\n"
          ]
        }
      ]
    },
    {
      "cell_type": "markdown",
      "source": [
        "##LA FUNCIÓN LAMBDA\n",
        "Es una función anónima (no tiene nombre) y sirve para crear funciones as hoc (dentro de un solo código)"
      ],
      "metadata": {
        "id": "mHlI5L1cox_B"
      }
    },
    {
      "cell_type": "code",
      "source": [
        "def cuadrado (x):\n",
        "  z = x**2\n",
        "  return z"
      ],
      "metadata": {
        "id": "dNcyqNT0pKTh"
      },
      "execution_count": null,
      "outputs": []
    },
    {
      "cell_type": "code",
      "source": [
        "cuadrado(25)"
      ],
      "metadata": {
        "colab": {
          "base_uri": "https://localhost:8080/"
        },
        "id": "ovyxdMN7pUBi",
        "outputId": "bb010dc4-0254-47c5-83d2-5910ada90049"
      },
      "execution_count": null,
      "outputs": [
        {
          "output_type": "execute_result",
          "data": {
            "text/plain": [
              "625"
            ]
          },
          "metadata": {},
          "execution_count": 13
        }
      ]
    },
    {
      "cell_type": "code",
      "source": [
        "cuad = lambda x:x**2\n",
        "cuad(2)"
      ],
      "metadata": {
        "colab": {
          "base_uri": "https://localhost:8080/"
        },
        "id": "Y2P61fNcpeXu",
        "outputId": "e8af4f40-a6e6-45e0-bdfa-d348635b2b9c"
      },
      "execution_count": null,
      "outputs": [
        {
          "output_type": "execute_result",
          "data": {
            "text/plain": [
              "4"
            ]
          },
          "metadata": {},
          "execution_count": 15
        }
      ]
    },
    {
      "cell_type": "code",
      "source": [
        "operacion = lambda x,y: x**2 + x*y +2\n",
        "operacion(2,3)"
      ],
      "metadata": {
        "colab": {
          "base_uri": "https://localhost:8080/"
        },
        "id": "xyW-p-G8qfZa",
        "outputId": "193b01a8-fce0-4f11-8bd0-5d1fa9a0d397"
      },
      "execution_count": null,
      "outputs": [
        {
          "output_type": "execute_result",
          "data": {
            "text/plain": [
              "12"
            ]
          },
          "metadata": {},
          "execution_count": 16
        }
      ]
    },
    {
      "cell_type": "code",
      "source": [
        "import math\n",
        "from math import pi, e"
      ],
      "metadata": {
        "id": "uTQX4IRtrDn9"
      },
      "execution_count": null,
      "outputs": []
    },
    {
      "cell_type": "code",
      "source": [
        "pi"
      ],
      "metadata": {
        "colab": {
          "base_uri": "https://localhost:8080/"
        },
        "id": "euuX0gZFrOCG",
        "outputId": "9d35c6d1-151c-4664-ec5a-54d7e479d78e"
      },
      "execution_count": null,
      "outputs": [
        {
          "output_type": "execute_result",
          "data": {
            "text/plain": [
              "3.141592653589793"
            ]
          },
          "metadata": {},
          "execution_count": 18
        }
      ]
    },
    {
      "cell_type": "code",
      "source": [
        "e"
      ],
      "metadata": {
        "colab": {
          "base_uri": "https://localhost:8080/"
        },
        "id": "bdnkZ2uarQdj",
        "outputId": "ec4f3c99-b2a7-4438-b2b3-aabcc1be0df0"
      },
      "execution_count": null,
      "outputs": [
        {
          "output_type": "execute_result",
          "data": {
            "text/plain": [
              "2.718281828459045"
            ]
          },
          "metadata": {},
          "execution_count": 19
        }
      ]
    },
    {
      "cell_type": "code",
      "source": [
        "area_circulo = lambda radio: pi*radio**2\n",
        "area_circulo(5)"
      ],
      "metadata": {
        "colab": {
          "base_uri": "https://localhost:8080/"
        },
        "id": "-9euMqsZrbuf",
        "outputId": "b13e5db0-6903-4e47-d15f-b7085eec2d20"
      },
      "execution_count": null,
      "outputs": [
        {
          "output_type": "execute_result",
          "data": {
            "text/plain": [
              "78.53981633974483"
            ]
          },
          "metadata": {},
          "execution_count": 20
        }
      ]
    },
    {
      "cell_type": "markdown",
      "source": [
        "## LA FUNCIÓN MAP"
      ],
      "metadata": {
        "id": "67gOBH0FrtZW"
      }
    },
    {
      "cell_type": "code",
      "source": [
        "residuo = list(map(lambda x : x%2 , [i for i in range(1,101)]))\n",
        "residuo"
      ],
      "metadata": {
        "colab": {
          "base_uri": "https://localhost:8080/"
        },
        "collapsed": true,
        "id": "oQ2112-wtU3N",
        "outputId": "7c3ea284-3369-422f-a8d6-f44251cacfe7"
      },
      "execution_count": null,
      "outputs": [
        {
          "output_type": "execute_result",
          "data": {
            "text/plain": [
              "[1,\n",
              " 0,\n",
              " 1,\n",
              " 0,\n",
              " 1,\n",
              " 0,\n",
              " 1,\n",
              " 0,\n",
              " 1,\n",
              " 0,\n",
              " 1,\n",
              " 0,\n",
              " 1,\n",
              " 0,\n",
              " 1,\n",
              " 0,\n",
              " 1,\n",
              " 0,\n",
              " 1,\n",
              " 0,\n",
              " 1,\n",
              " 0,\n",
              " 1,\n",
              " 0,\n",
              " 1,\n",
              " 0,\n",
              " 1,\n",
              " 0,\n",
              " 1,\n",
              " 0,\n",
              " 1,\n",
              " 0,\n",
              " 1,\n",
              " 0,\n",
              " 1,\n",
              " 0,\n",
              " 1,\n",
              " 0,\n",
              " 1,\n",
              " 0,\n",
              " 1,\n",
              " 0,\n",
              " 1,\n",
              " 0,\n",
              " 1,\n",
              " 0,\n",
              " 1,\n",
              " 0,\n",
              " 1,\n",
              " 0,\n",
              " 1,\n",
              " 0,\n",
              " 1,\n",
              " 0,\n",
              " 1,\n",
              " 0,\n",
              " 1,\n",
              " 0,\n",
              " 1,\n",
              " 0,\n",
              " 1,\n",
              " 0,\n",
              " 1,\n",
              " 0,\n",
              " 1,\n",
              " 0,\n",
              " 1,\n",
              " 0,\n",
              " 1,\n",
              " 0,\n",
              " 1,\n",
              " 0,\n",
              " 1,\n",
              " 0,\n",
              " 1,\n",
              " 0,\n",
              " 1,\n",
              " 0,\n",
              " 1,\n",
              " 0,\n",
              " 1,\n",
              " 0,\n",
              " 1,\n",
              " 0,\n",
              " 1,\n",
              " 0,\n",
              " 1,\n",
              " 0,\n",
              " 1,\n",
              " 0,\n",
              " 1,\n",
              " 0,\n",
              " 1,\n",
              " 0,\n",
              " 1,\n",
              " 0,\n",
              " 1,\n",
              " 0,\n",
              " 1,\n",
              " 0]"
            ]
          },
          "metadata": {},
          "execution_count": 24
        }
      ]
    },
    {
      "cell_type": "code",
      "source": [
        "def residuo_(x):\n",
        "  for x in range(1, 101):\n",
        "    return x%2"
      ],
      "metadata": {
        "id": "hqGAV4sruwwW"
      },
      "execution_count": null,
      "outputs": []
    },
    {
      "cell_type": "code",
      "source": [
        "residuo_(3)"
      ],
      "metadata": {
        "colab": {
          "base_uri": "https://localhost:8080/"
        },
        "id": "3WiOzbjpvQyj",
        "outputId": "73b6f7b8-4857-44cc-e79d-c74dafde6a84"
      },
      "execution_count": null,
      "outputs": [
        {
          "output_type": "execute_result",
          "data": {
            "text/plain": [
              "1"
            ]
          },
          "metadata": {},
          "execution_count": 26
        }
      ]
    },
    {
      "cell_type": "code",
      "source": [
        "exponenciales = set(map(lambda x : e**x , [i for i in range(1,10)]))\n",
        "exponenciales"
      ],
      "metadata": {
        "colab": {
          "base_uri": "https://localhost:8080/"
        },
        "id": "FeHWBB-vvZeG",
        "outputId": "5575969e-d34d-436b-fa44-ad50133f1ce4"
      },
      "execution_count": null,
      "outputs": [
        {
          "output_type": "execute_result",
          "data": {
            "text/plain": [
              "{2.718281828459045,\n",
              " 7.3890560989306495,\n",
              " 20.085536923187664,\n",
              " 54.59815003314423,\n",
              " 148.41315910257657,\n",
              " 403.428793492735,\n",
              " 1096.6331584284583,\n",
              " 2980.957987041727,\n",
              " 8103.08392757538}"
            ]
          },
          "metadata": {},
          "execution_count": 27
        }
      ]
    },
    {
      "cell_type": "code",
      "source": [
        "import itertools\n",
        "from itertools import product"
      ],
      "metadata": {
        "id": "bVZgT6N_BXA7"
      },
      "execution_count": null,
      "outputs": []
    },
    {
      "cell_type": "markdown",
      "source": [
        "### EJEMPLO DEL USO DE LA PROBABILIDAD CLÁSICO\n",
        "\n",
        "Tenemos el siguiente experimento. Lanzamos dos dados honestos.\n",
        "\n",
        "$$\\Omega = \\{1,2,3,4,5,6\\}\\times \\{1,2,3,4,5,6\\}$$"
      ],
      "metadata": {
        "id": "yxfiqQ5z_xei"
      }
    },
    {
      "cell_type": "code",
      "source": [
        "omega = set(product({1,2,3,4,5,6}, repeat = 2)) # set escribe todo dentro de un conjunto\n",
        "omega"
      ],
      "metadata": {
        "colab": {
          "base_uri": "https://localhost:8080/"
        },
        "collapsed": true,
        "id": "FdbckeSjBs-y",
        "outputId": "15157b6f-95ee-4c80-f9c8-099f6508c59c"
      },
      "execution_count": null,
      "outputs": [
        {
          "output_type": "execute_result",
          "data": {
            "text/plain": [
              "{(1, 1),\n",
              " (1, 2),\n",
              " (1, 3),\n",
              " (1, 4),\n",
              " (1, 5),\n",
              " (1, 6),\n",
              " (2, 1),\n",
              " (2, 2),\n",
              " (2, 3),\n",
              " (2, 4),\n",
              " (2, 5),\n",
              " (2, 6),\n",
              " (3, 1),\n",
              " (3, 2),\n",
              " (3, 3),\n",
              " (3, 4),\n",
              " (3, 5),\n",
              " (3, 6),\n",
              " (4, 1),\n",
              " (4, 2),\n",
              " (4, 3),\n",
              " (4, 4),\n",
              " (4, 5),\n",
              " (4, 6),\n",
              " (5, 1),\n",
              " (5, 2),\n",
              " (5, 3),\n",
              " (5, 4),\n",
              " (5, 5),\n",
              " (5, 6),\n",
              " (6, 1),\n",
              " (6, 2),\n",
              " (6, 3),\n",
              " (6, 4),\n",
              " (6, 5),\n",
              " (6, 6)}"
            ]
          },
          "metadata": {},
          "execution_count": 3
        }
      ]
    },
    {
      "cell_type": "markdown",
      "source": [
        "La probabilidad de un evento, se calcula como\n",
        "\n",
        "$$\\mathbb{P}(A)=\\frac{\\# A}{\\# \\Omega}.$$\n",
        "\n",
        "Consideremos al siguiente evento:\n",
        "- $S$: la suma de los resultados de las caras sea 7"
      ],
      "metadata": {
        "id": "UBNnvH6uLTx0"
      }
    },
    {
      "cell_type": "code",
      "source": [
        "S = {o for o in omega if o[0]+o[1]==7}\n",
        "S"
      ],
      "metadata": {
        "colab": {
          "base_uri": "https://localhost:8080/"
        },
        "id": "2pgl5KpbMHIP",
        "outputId": "bee3a3c7-38b9-4656-e7c6-9c4fb2486620"
      },
      "execution_count": null,
      "outputs": [
        {
          "output_type": "execute_result",
          "data": {
            "text/plain": [
              "{(1, 6), (2, 5), (3, 4), (4, 3), (5, 2), (6, 1)}"
            ]
          },
          "metadata": {},
          "execution_count": 5
        }
      ]
    },
    {
      "cell_type": "code",
      "source": [
        "x = len(S)/len(omega)\n",
        "print(f\"La probabilidad de que la suma sea 7 es: {x}\")"
      ],
      "metadata": {
        "colab": {
          "base_uri": "https://localhost:8080/"
        },
        "id": "QVHAL4_hNTOy",
        "outputId": "7f6e2252-a56c-401a-8f53-31ff4ca48f8a"
      },
      "execution_count": null,
      "outputs": [
        {
          "output_type": "stream",
          "name": "stdout",
          "text": [
            "La probabilidad de que la suma sea 7 es: 0.16666666666666666\n"
          ]
        }
      ]
    },
    {
      "cell_type": "code",
      "source": [
        "from fractions import Fraction\n",
        "\n",
        "Fraction(2,5)"
      ],
      "metadata": {
        "colab": {
          "base_uri": "https://localhost:8080/"
        },
        "id": "Jdwf7_1cNy1F",
        "outputId": "5208dfdf-bc48-4cc1-b33d-25d5f6c7bc4a"
      },
      "execution_count": null,
      "outputs": [
        {
          "output_type": "execute_result",
          "data": {
            "text/plain": [
              "Fraction(2, 5)"
            ]
          },
          "metadata": {},
          "execution_count": 9
        }
      ]
    },
    {
      "cell_type": "code",
      "source": [
        "# Vamos a crear una función para calcular probabilidades\n",
        "\n",
        "def S(n):\n",
        "  S = {o for o in omega if o[0]+o[1]==n}\n",
        "  return S"
      ],
      "metadata": {
        "id": "w4uVSlZJObqp"
      },
      "execution_count": null,
      "outputs": []
    },
    {
      "cell_type": "code",
      "source": [
        "S(2)"
      ],
      "metadata": {
        "colab": {
          "base_uri": "https://localhost:8080/"
        },
        "id": "whDrX9nIO3Lb",
        "outputId": "7c161542-05f0-4024-c4eb-39f38dcb33f7"
      },
      "execution_count": null,
      "outputs": [
        {
          "output_type": "execute_result",
          "data": {
            "text/plain": [
              "{(1, 1)}"
            ]
          },
          "metadata": {},
          "execution_count": 14
        }
      ]
    },
    {
      "cell_type": "code",
      "source": [
        "S(5)"
      ],
      "metadata": {
        "colab": {
          "base_uri": "https://localhost:8080/"
        },
        "id": "_x8gJe1PPJd8",
        "outputId": "79b0ba9b-bef4-4d4a-c2bf-46a21a6d1ca9"
      },
      "execution_count": null,
      "outputs": [
        {
          "output_type": "execute_result",
          "data": {
            "text/plain": [
              "{(1, 4), (2, 3), (3, 2), (4, 1)}"
            ]
          },
          "metadata": {},
          "execution_count": 15
        }
      ]
    },
    {
      "cell_type": "code",
      "source": [
        "# Vamos a crear la función de probabilidad\n",
        "\n",
        "def x(A, omega):\n",
        "  return Fraction(len(A), len(omega))"
      ],
      "metadata": {
        "id": "jPUeAqVgP3Eu"
      },
      "execution_count": null,
      "outputs": []
    },
    {
      "cell_type": "code",
      "source": [
        "x(S(7), omega)"
      ],
      "metadata": {
        "colab": {
          "base_uri": "https://localhost:8080/"
        },
        "id": "f9MmhVpCQGtS",
        "outputId": "711b846f-7adc-45a1-eb42-1ca06b96439d"
      },
      "execution_count": null,
      "outputs": [
        {
          "output_type": "execute_result",
          "data": {
            "text/plain": [
              "Fraction(1, 6)"
            ]
          },
          "metadata": {},
          "execution_count": 19
        }
      ]
    },
    {
      "cell_type": "markdown",
      "source": [
        "## MATRICES Y OPERACIONES"
      ],
      "metadata": {
        "id": "Fj6xlqrmRnhj"
      }
    },
    {
      "cell_type": "code",
      "source": [
        "import numpy as np\n",
        "\n",
        "class Matriz:\n",
        "  def __init__(self, renglones, columnas):\n",
        "    self.renglones = renglones\n",
        "    self.columnas = columnas\n",
        "    self.coef = np.zeros((renglones, columnas))\n",
        "\n",
        "  def coeficientes(self):\n",
        "    print(f\"Ingresa los coeficientes de la matriz ({self.renglones}x{self.columnas})\")\n",
        "    for i in range(self.renglones):\n",
        "      self.coef[i] = map(float, input().split())\n",
        "\n",
        "  def mostrar_matriz(self):\n",
        "    print(self.coef)"
      ],
      "metadata": {
        "id": "oo4LysvSRrcS"
      },
      "execution_count": null,
      "outputs": []
    },
    {
      "cell_type": "code",
      "source": [
        "mat = np.array([25,45,67,8,0,1,1,5,18]).reshape(3,3)\n",
        "np.linalg.det(mat)"
      ],
      "metadata": {
        "colab": {
          "base_uri": "https://localhost:8080/"
        },
        "id": "gm8HLe7vVY3x",
        "outputId": "a2e561ed-58d8-4821-987c-030e24b16a40"
      },
      "execution_count": null,
      "outputs": [
        {
          "output_type": "execute_result",
          "data": {
            "text/plain": [
              "-3879.999999999998"
            ]
          },
          "metadata": {},
          "execution_count": 21
        }
      ]
    }
  ]
}