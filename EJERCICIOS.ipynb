{
  "nbformat": 4,
  "nbformat_minor": 0,
  "metadata": {
    "colab": {
      "provenance": []
    },
    "kernelspec": {
      "name": "python3",
      "display_name": "Python 3"
    },
    "language_info": {
      "name": "python"
    }
  },
  "cells": [
    {
      "cell_type": "markdown",
      "source": [
        "# EJERCICIOS"
      ],
      "metadata": {
        "id": "qf9j6reG4SxI"
      }
    },
    {
      "cell_type": "code",
      "execution_count": 1,
      "metadata": {
        "colab": {
          "base_uri": "https://localhost:8080/"
        },
        "id": "zBskDXEa4SQy",
        "outputId": "207ae5ef-6c4c-4b8b-f86f-397b8821344e"
      },
      "outputs": [
        {
          "output_type": "stream",
          "name": "stdout",
          "text": [
            "Hola Mundo\n"
          ]
        }
      ],
      "source": [
        "# Ejercicio 1\n",
        "print(\"Hola Mundo\")"
      ]
    },
    {
      "cell_type": "code",
      "source": [
        "# Ejercicio 2\n",
        "nombre = (\"Marina\")\n",
        "nombre"
      ],
      "metadata": {
        "colab": {
          "base_uri": "https://localhost:8080/",
          "height": 35
        },
        "id": "YOGr3r3S4plU",
        "outputId": "50c560f0-4733-408d-fcab-fcb7d1677581"
      },
      "execution_count": 2,
      "outputs": [
        {
          "output_type": "execute_result",
          "data": {
            "text/plain": [
              "'Marina'"
            ],
            "application/vnd.google.colaboratory.intrinsic+json": {
              "type": "string"
            }
          },
          "metadata": {},
          "execution_count": 2
        }
      ]
    },
    {
      "cell_type": "code",
      "source": [
        "# Ejercicio 3\n",
        "numero = int(input(\"Ingrese un numero \"))\n",
        "numero = numero*2\n",
        "numero"
      ],
      "metadata": {
        "colab": {
          "base_uri": "https://localhost:8080/"
        },
        "id": "YL-fQ6bC43K2",
        "outputId": "b1603a27-89e0-4696-f5d1-1ee798bff4e2"
      },
      "execution_count": 7,
      "outputs": [
        {
          "name": "stdout",
          "output_type": "stream",
          "text": [
            "Ingrese un numero 5\n"
          ]
        },
        {
          "output_type": "execute_result",
          "data": {
            "text/plain": [
              "10"
            ]
          },
          "metadata": {},
          "execution_count": 7
        }
      ]
    },
    {
      "cell_type": "code",
      "source": [
        "# Ejercicio 4\n",
        "suma1 = int(input(\"Ingrese un numero \"))\n",
        "suma2 = int(input(\"Ingrese otro numero \"))\n",
        "suma1 + suma2"
      ],
      "metadata": {
        "colab": {
          "base_uri": "https://localhost:8080/"
        },
        "id": "zykkWyPO5VtP",
        "outputId": "c5a0aea4-0969-47e9-c3f4-85e1db13302d"
      },
      "execution_count": 8,
      "outputs": [
        {
          "name": "stdout",
          "output_type": "stream",
          "text": [
            "Ingrese un numero 5\n",
            "Ingrese otro numero 2\n"
          ]
        },
        {
          "output_type": "execute_result",
          "data": {
            "text/plain": [
              "7"
            ]
          },
          "metadata": {},
          "execution_count": 8
        }
      ]
    },
    {
      "cell_type": "code",
      "source": [
        "# Ejercicio 5\n",
        "lista = [1,2,3,4,5,6,7,8,9,10]\n",
        "print(\"El primero numero de la lista es:\", lista[0])\n",
        "print(\"El ultimo numero de la lista es:\", lista[9])"
      ],
      "metadata": {
        "colab": {
          "base_uri": "https://localhost:8080/"
        },
        "id": "rkKg5U5-5zTU",
        "outputId": "31728e5b-69ab-494e-9e3e-d8e6c56e611e"
      },
      "execution_count": 10,
      "outputs": [
        {
          "output_type": "stream",
          "name": "stdout",
          "text": [
            "El primero numero de la lista es: 1\n",
            "El ultimo numero de la lista es: 10\n"
          ]
        }
      ]
    },
    {
      "cell_type": "code",
      "source": [
        "# Ejercicio 6\n",
        "numero = int(input(\"Ingrese un numero \"))\n",
        "if numero %2 == 0:\n",
        "    print(\"El numero es par\")\n",
        "else:\n",
        "    print(\"El numero es impar\")\n",
        ""
      ],
      "metadata": {
        "colab": {
          "base_uri": "https://localhost:8080/"
        },
        "id": "NuA1a6VI6PNp",
        "outputId": "ef9013e7-502f-4862-f570-624f6816d16a"
      },
      "execution_count": 14,
      "outputs": [
        {
          "output_type": "stream",
          "name": "stdout",
          "text": [
            "Ingrese un numero 4\n",
            "El numero es par\n"
          ]
        }
      ]
    },
    {
      "cell_type": "code",
      "source": [
        "# Ejercicio 7\n",
        "for i in range(11):\n",
        "  print(i)"
      ],
      "metadata": {
        "colab": {
          "base_uri": "https://localhost:8080/"
        },
        "id": "lhvEwLSo7Fhl",
        "outputId": "f649c74d-1bf2-4702-87fa-333d2fca168c"
      },
      "execution_count": 20,
      "outputs": [
        {
          "output_type": "stream",
          "name": "stdout",
          "text": [
            "0\n",
            "1\n",
            "2\n",
            "3\n",
            "4\n",
            "5\n",
            "6\n",
            "7\n",
            "8\n",
            "9\n",
            "10\n"
          ]
        }
      ]
    },
    {
      "cell_type": "code",
      "source": [
        "# Ejercicio 8\n",
        "n = 100\n",
        "suma = n*(n+1)/2\n",
        "print(suma)"
      ],
      "metadata": {
        "colab": {
          "base_uri": "https://localhost:8080/"
        },
        "id": "jIDCKawr7mU9",
        "outputId": "9e5451ea-fd68-4678-ab27-5cb45d92561b"
      },
      "execution_count": 21,
      "outputs": [
        {
          "output_type": "stream",
          "name": "stdout",
          "text": [
            "5050.0\n"
          ]
        }
      ]
    },
    {
      "cell_type": "code",
      "source": [
        "# Ejercicio 9\n",
        "numero = int(input(\"Ingrese un numero \"))\n",
        "def cuadrado(numero):\n",
        "  return numero**2\n",
        "cuadrado(numero)"
      ],
      "metadata": {
        "colab": {
          "base_uri": "https://localhost:8080/"
        },
        "id": "iGrzXHVq8SVN",
        "outputId": "3c5cbf18-903d-41cf-d792-5f6e8349f4e1"
      },
      "execution_count": 25,
      "outputs": [
        {
          "name": "stdout",
          "output_type": "stream",
          "text": [
            "Ingrese un numero 5\n"
          ]
        },
        {
          "output_type": "execute_result",
          "data": {
            "text/plain": [
              "25"
            ]
          },
          "metadata": {},
          "execution_count": 25
        }
      ]
    },
    {
      "cell_type": "code",
      "source": [
        "# Ejercicio 10\n",
        "def contar_vocales(texto):\n",
        "    vocales = \"aeiouAEIOU\"\n",
        "    texto = input(\"Introduce un texto: \")\n",
        "    cont = 0\n",
        "    for char in texto:\n",
        "      if char in vocales:\n",
        "        cont += 1\n",
        "    return cont"
      ],
      "metadata": {
        "id": "OxOWFjq59TPv"
      },
      "execution_count": 60,
      "outputs": []
    },
    {
      "cell_type": "code",
      "source": [
        "contar_vocales(texto)"
      ],
      "metadata": {
        "colab": {
          "base_uri": "https://localhost:8080/"
        },
        "id": "yk2Mw6ZzVc_-",
        "outputId": "32d59420-d9fa-4abc-bfb2-fd21b48ec47d"
      },
      "execution_count": 62,
      "outputs": [
        {
          "name": "stdout",
          "output_type": "stream",
          "text": [
            "Introduce un texto: pitufo\n"
          ]
        },
        {
          "output_type": "execute_result",
          "data": {
            "text/plain": [
              "3"
            ]
          },
          "metadata": {},
          "execution_count": 62
        }
      ]
    },
    {
      "cell_type": "code",
      "source": [
        "# Ejercicio 11\n",
        "pares = {i for i in range (11) if i % 2 == 0}\n",
        "print(f\"Pares: {pares}\")"
      ],
      "metadata": {
        "colab": {
          "base_uri": "https://localhost:8080/"
        },
        "id": "qYzZiW_H_pgb",
        "outputId": "7c9b5c75-22dd-4068-fe29-3e255bd28898"
      },
      "execution_count": 41,
      "outputs": [
        {
          "output_type": "stream",
          "name": "stdout",
          "text": [
            "Pares: {0, 2, 4, 6, 8, 10}\n"
          ]
        }
      ]
    },
    {
      "cell_type": "code",
      "source": [
        "# Ejercicio 12\n",
        "Personas = {\n",
        "    \"Marina\": 21,\n",
        "    \"Alvaro\": 18,\n",
        "    \"Fabrizio\": 18,\n",
        "    \"Randi\": 56\n",
        "}\n",
        "nombre = input(\"Ingrese el nombre de la persona: \")\n",
        "if nombre in Personas:\n",
        "  print(f\"La edad de {nombre} es {Personas[nombre]}\")\n",
        "else:\n",
        "  print(f\"{nombre} no se encuentra en el diccionario\")"
      ],
      "metadata": {
        "colab": {
          "base_uri": "https://localhost:8080/"
        },
        "id": "NkLD78mHBQe7",
        "outputId": "6d58c3ca-d8a5-4e0c-9b5c-aab6ad7f458f"
      },
      "execution_count": 44,
      "outputs": [
        {
          "output_type": "stream",
          "name": "stdout",
          "text": [
            "Ingrese el nombre de la persona: Randi\n",
            "La edad de Randi es 56\n"
          ]
        }
      ]
    },
    {
      "cell_type": "code",
      "source": [
        "# Ejercicio 13\n",
        "lista = [10,24,5,17,104,256,55,78,96]\n",
        "num_grande = max(lista)\n",
        "print(f\"El numero mas grande de la lista es {num_grande}\")"
      ],
      "metadata": {
        "colab": {
          "base_uri": "https://localhost:8080/"
        },
        "id": "GcTmOFlmDfma",
        "outputId": "1500d224-388f-44da-8726-186047743a5b"
      },
      "execution_count": 45,
      "outputs": [
        {
          "output_type": "stream",
          "name": "stdout",
          "text": [
            "El numero mas grande de la lista es 256\n"
          ]
        }
      ]
    },
    {
      "cell_type": "code",
      "source": [
        "# Ejercicio 14\n",
        "lista = [5,10,15,20,25,30]\n",
        "def promedio(lista):\n",
        "  return sum(lista)/len(lista)\n",
        "promedio(lista)"
      ],
      "metadata": {
        "colab": {
          "base_uri": "https://localhost:8080/"
        },
        "id": "KS-Shag8D0no",
        "outputId": "8f2c4bca-597a-46e2-f6c6-d301679df93c"
      },
      "execution_count": 49,
      "outputs": [
        {
          "output_type": "execute_result",
          "data": {
            "text/plain": [
              "17.5"
            ]
          },
          "metadata": {},
          "execution_count": 49
        }
      ]
    },
    {
      "cell_type": "code",
      "source": [
        "# Ejercicio 15\n",
        "palabra = input(\"Ingrese una palabra: \")\n",
        "palabra_r = palabra [::-1]\n",
        "if palabra == palabra_r:\n",
        "  print(f\"{palabra} SI es un palindromo\")\n",
        "else:\n",
        "  print(f\"{palabra} NO es un palindromo\")"
      ],
      "metadata": {
        "colab": {
          "base_uri": "https://localhost:8080/"
        },
        "id": "TfUbBgp4GYp1",
        "outputId": "9522b2ea-b7ee-4b26-ef70-ed1e69abcff6"
      },
      "execution_count": 67,
      "outputs": [
        {
          "output_type": "stream",
          "name": "stdout",
          "text": [
            "Ingrese una palabra: anitalavalatina\n",
            "anitalavalatina SI es un palindromo\n"
          ]
        }
      ]
    },
    {
      "cell_type": "code",
      "source": [
        "# Ejercicio 16\n",
        "\n",
        "numero1 = int(input(\"Ingrese el primer numero: \"))\n",
        "numero2 = int(input(\"Ingrese el segundo numero: \"))\n",
        "if numero1 > numero2:\n",
        "  print(f\"{numero1} es el mayor\")\n",
        "else :\n",
        "  print(f\"{numero2} es el mayor\")"
      ],
      "metadata": {
        "colab": {
          "base_uri": "https://localhost:8080/"
        },
        "id": "EQB74SlJTrK8",
        "outputId": "511d9df9-631c-4a1a-819c-e6219e278eb6"
      },
      "execution_count": 56,
      "outputs": [
        {
          "output_type": "stream",
          "name": "stdout",
          "text": [
            "Ingrese el primer numero: 4\n",
            "Ingrese el segundo numero: 8\n",
            "8 es el mayor\n"
          ]
        }
      ]
    },
    {
      "cell_type": "code",
      "source": [
        "# Ejercicio 17\n",
        "numero = int(input(\"Ingrese el número del que quiera la tabla de multiplicar: \"))\n",
        "for i in range(11):\n",
        "  print (f\"{numero} x {i} = {numero*i}\")\n"
      ],
      "metadata": {
        "colab": {
          "base_uri": "https://localhost:8080/"
        },
        "id": "k7r-XEDCWCkA",
        "outputId": "ada7f030-9cf7-4f1e-fa2f-54fd26be8267"
      },
      "execution_count": 63,
      "outputs": [
        {
          "output_type": "stream",
          "name": "stdout",
          "text": [
            "Ingrese el número del que quiera la tabla de multiplicar: 5\n",
            "5 x 0 = 0\n",
            "5 x 1 = 5\n",
            "5 x 2 = 10\n",
            "5 x 3 = 15\n",
            "5 x 4 = 20\n",
            "5 x 5 = 25\n",
            "5 x 6 = 30\n",
            "5 x 7 = 35\n",
            "5 x 8 = 40\n",
            "5 x 9 = 45\n",
            "5 x 10 = 50\n"
          ]
        }
      ]
    }
  ]
}